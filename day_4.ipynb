 {
  "nbformat": 4,
  "nbformat_minor": 0,
  "metadata": {
    "colab": {
      "provenance": []
    },
    "kernelspec": {
      "name": "python3",
      "display_name": "Python 3"
    },
    "language_info": {
      "name": "python"
    }
  },
  "cells": [
    {
      "cell_type": "markdown",
      "source": [
        "`Good morning, wish you all the best,.All the 3 assignment has been included here only`"
      ],
      "metadata": {
        "id": "jWYB760w4xUu"
      }
    },
    {
      "cell_type": "markdown",
      "source": [
        "# Part ONe"
      ],
      "metadata": {
        "id": "uRvHq6WK1iip"
      }
    },
    {
      "cell_type": "markdown",
      "source": [
        "## 1. Create a function that sum only the float number from a given hetrogenous list"
      ],
      "metadata": {
        "id": "xpZzcKAyyb6V"
      }
    },
    {
      "cell_type": "code",
      "source": [
        "def sum_floats(heterogeneous_list):\n",
        "    total = 0.0\n",
        "    for item in heterogeneous_list:\n",
        "        if isinstance(item, float):\n",
        "            total += item\n",
        "    return total\n",
        "\n",
        "# Example usage:\n",
        "my_list = [1, 2.5, 'hello', 3.7, True, 5.2]\n",
        "result = sum_floats(my_list)\n",
        "print(\"Sum of float numbers in the list:\", result)"
      ],
      "metadata": {
        "id": "eLlEJRxTy8_f",
        "colab": {
          "base_uri": "https://localhost:8080/"
        },
        "outputId": "815925f7-cfef-4428-aa64-dbe256e2226d"
      },
      "execution_count": null,
      "outputs": [
        {
          "output_type": "stream",
          "name": "stdout",
          "text": [
            "Sum of float numbers in the list: 11.4\n"
          ]
        }
      ]
    },
    {
      "cell_type": "code",
      "source": [
        "# reverse the list using the loop\n",
        "def reverse_list_with_loop(input_list):\n",
        "    reversed_list = []\n",
        "    for i in range(len(input_list) - 1, -1, -1):\n",
        "        reversed_list.append(input_list[i])\n",
        "    return reversed_list\n",
        "my_list = [1, 2.5, 'hello', 3.7, True, 5.2]\n",
        "reversed_list = reverse_list_with_loop(my_list)\n",
        "print(\"Original list:\", my_list)\n",
        "print(\"Reversed list:\", reversed_list)"
      ],
      "metadata": {
        "id": "TO6D3KTSy9-x",
        "colab": {
          "base_uri": "https://localhost:8080/"
        },
        "outputId": "bb4f7b77-5c0a-49ef-ae3c-199878ac5aee"
      },
      "execution_count": null,
      "outputs": [
        {
          "output_type": "stream",
          "name": "stdout",
          "text": [
            "Original list: [1, 2.5, 'hello', 3.7, True, 5.2]\n",
            "Reversed list: [5.2, True, 3.7, 'hello', 2.5, 1]\n"
          ]
        }
      ]
    },
    {
      "cell_type": "markdown",
      "source": [
        "## 2. Count the total number of digit using the loop"
      ],
      "metadata": {
        "id": "MxMyCaZHzEB-"
      }
    },
    {
      "cell_type": "code",
      "source": [
        "def count_digits(input_list):\n",
        "    total_digits = 0\n",
        "    for item in input_list:\n",
        "        if isinstance(item, (int, float)):\n",
        "            total_digits += len(str(abs(item)))  # Convert to absolute value and count digits\n",
        "    return total_digits\n",
        "\n",
        "my_list = [1, 2.5, 'hello', 3.7, True, 5.2]\n",
        "total_digits = count_digits(my_list)\n",
        "print(\"Total number of digits in the list:\", total_digits)"
      ],
      "metadata": {
        "id": "DZYJiYdQzcVv",
        "colab": {
          "base_uri": "https://localhost:8080/"
        },
        "outputId": "53a33757-d6f2-45c1-b48c-29a7c271f770"
      },
      "execution_count": null,
      "outputs": [
        {
          "output_type": "stream",
          "name": "stdout",
          "text": [
            "Total number of digits in the list: 11\n"
          ]
        }
      ]
    },
    {
      "cell_type": "markdown",
      "source": [
        "## 3. Display this\n",
        "5 4 3 2 1\n",
        "\n",
        "4 3 2 1\n",
        "\n",
        "3 2 1\n",
        "\n",
        "2 1\n",
        "\n",
        "1"
      ],
      "metadata": {
        "id": "kG8Phx7VzYWD"
      }
    },
    {
      "cell_type": "code",
      "source": [
        "for i in range(5, 0, -1):\n",
        "    for j in range(i, 0, -1):\n",
        "        print(j, end=\" \")\n",
        "    print()"
      ],
      "metadata": {
        "colab": {
          "base_uri": "https://localhost:8080/"
        },
        "id": "56RZM43vOm1C",
        "outputId": "5196dc8e-eb48-4e67-91cc-954ac49c8207"
      },
      "execution_count": null,
      "outputs": [
        {
          "output_type": "stream",
          "name": "stdout",
          "text": [
            "5 4 3 2 1 \n",
            "4 3 2 1 \n",
            "3 2 1 \n",
            "2 1 \n",
            "1 \n"
          ]
        }
      ]
    },
    {
      "cell_type": "markdown",
      "source": [
        "## 4. Display this"
      ],
      "metadata": {
        "id": "xTaGWpQXzy-M"
      }
    },
    {
      "cell_type": "code",
      "source": [
        "*\n",
        "* *\n",
        "* * *\n",
        "* * * *\n",
        "* * * * *\n",
        "* * * *\n",
        "* * *\n",
        "* *\n",
        "*"
      ],
      "metadata": {
        "id": "7UjomURgjHQu"
      },
      "execution_count": null,
      "outputs": []
    },
    {
      "cell_type": "code",
      "source": [
        "rows = 5\n",
        "\n",
        "for i in range(rows):\n",
        "    for j in range(i + 1):\n",
        "        print(\"*\", end=\" \")\n",
        "    print()\n",
        "\n",
        "for i in range(rows - 1, 0, -1):\n",
        "    for j in range(i):\n",
        "        print(\"*\", end=\" \")\n",
        "    print()"
      ],
      "metadata": {
        "colab": {
          "base_uri": "https://localhost:8080/"
        },
        "id": "hq1T2bD2OxGz",
        "outputId": "2185c967-ad96-4bbf-bd12-ffc81eafeacf"
      },
      "execution_count": null,
      "outputs": [
        {
          "output_type": "stream",
          "name": "stdout",
          "text": [
            "* \n",
            "* * \n",
            "* * * \n",
            "* * * * \n",
            "* * * * * \n",
            "* * * * \n",
            "* * * \n",
            "* * \n",
            "* \n"
          ]
        }
      ]
    },
    {
      "cell_type": "markdown",
      "source": [
        "## 5. Write function that generate multiplication table upto a given range in Python"
      ],
      "metadata": {
        "id": "1OYQk9N70Ax3"
      }
    },
    {
      "cell_type": "code",
      "source": [
        "def multiplication_table(range_val):\n",
        "    for i in range(1, range_val + 1):\n",
        "        for j in range(1, range_val + 1):\n",
        "            print(i * j, end=\"\\t\")\n",
        "        print()\n",
        "\n",
        "range_val = 5\n",
        "print(f\"Multiplication table up to {range_val}:\")\n",
        "multiplication_table(range_val)"
      ],
      "metadata": {
        "id": "NeosDqO904-u",
        "colab": {
          "base_uri": "https://localhost:8080/"
        },
        "outputId": "d57c1508-9ad5-4fe9-c971-86fff2a718c3"
      },
      "execution_count": null,
      "outputs": [
        {
          "output_type": "stream",
          "name": "stdout",
          "text": [
            "Multiplication table up to 5:\n",
            "1\t2\t3\t4\t5\t\n",
            "2\t4\t6\t8\t10\t\n",
            "3\t6\t9\t12\t15\t\n",
            "4\t8\t12\t16\t20\t\n",
            "5\t10\t15\t20\t25\t\n"
          ]
        }
      ]
    },
    {
      "cell_type": "code",
      "source": [
        "# what are the difference between the list comprehension and loop??"
      ],
      "metadata": {
        "id": "V9z-kXUi0468"
      },
      "execution_count": null,
      "outputs": []
    },
    {
      "cell_type": "markdown",
      "source": [
        "# Part two"
      ],
      "metadata": {
        "id": "HrRqpK9A1mvj"
      }
    },
    {
      "cell_type": "markdown",
      "source": [
        "## 6. Write a python program for the palindrome checker using the loop"
      ],
      "metadata": {
        "id": "T36QPuxw1pfo"
      }
    },
    {
      "cell_type": "code",
      "source": [
        "# input word\n",
        "word = input(\"Enter a word: \")\n",
        "word = word.lower()\n",
        "length_word = int(len(word))\n",
        "\n",
        "### use a for-loop\n",
        "for letter in range(len(word)):\n",
        "    if word[-length_word] == word[-1]:\n",
        "        print(word, \"is a palindrome.\")\n",
        "\n",
        "    else:\n",
        "        print(word, \"is not a palindrome.\")"
      ],
      "metadata": {
        "id": "m7XDSo01QVe4",
        "colab": {
          "base_uri": "https://localhost:8080/"
        },
        "outputId": "fd0fab27-d90c-42b9-b9cf-c3a8fb0f601f"
      },
      "execution_count": 1,
      "outputs": [
        {
          "output_type": "stream",
          "name": "stdout",
          "text": [
            "Enter a word: ds\n",
            "ds is not a palindrome.\n",
            "ds is not a palindrome.\n"
          ]
        }
      ]
    },
    {
      "cell_type": "markdown",
      "source": [
        "## 7. Factorial Calculation\n",
        "Write a program that calculates the factorial of a given number using a loop. The user should input the number, and the program should display its factorial."
      ],
      "metadata": {
        "id": "QLZ4Dc1O1zHm"
      }
    },
    {
      "cell_type": "code",
      "source": [
        "\n",
        "# Get user input for the number\n",
        "number = int(input(\"Enter a number to calculate its factorial: \"))\n",
        "\n",
        "# Check if the number is non-negative\n",
        "if number < 0:\n",
        "    print(\"Factorial is not defined for negative numbers.\")\n",
        "else:\n",
        "    factorial = 1\n",
        "    # Loop to calculate factorial\n",
        "    for i in range(1, number + 1):\n",
        "        factorial *= i\n",
        "    print(f\"The factorial of {number} is: {factorial}\")"
      ],
      "metadata": {
        "id": "XJZCGK0s2LYV",
        "colab": {
          "base_uri": "https://localhost:8080/"
        },
        "outputId": "53693f4c-66de-4e34-ae0c-135fe3521cf8"
      },
      "execution_count": null,
      "outputs": [
        {
          "output_type": "stream",
          "name": "stdout",
          "text": [
            "Enter a number to calculate its factorial: 3\n",
            "The factorial of 3 is: 6\n"
          ]
        }
      ]
    },
    {
      "cell_type": "markdown",
      "source": [
        "## 8. Binary to Decimal Converter\n",
        "Create a program that converts a binary number (entered by the user) to its decimal equivalent. The user should input the binary number as a string, and the program should output its decimal equivalent."
      ],
      "metadata": {
        "id": "dAX_1Cgx2LtY"
      }
    },
    {
      "cell_type": "code",
      "source": [
        "# Function to convert binary to decimal\n",
        "def binary_to_decimal(binary):\n",
        "    decimal = 0\n",
        "    power = len(binary) - 1  # Start from the highest power of 2\n",
        "\n",
        "    # Iterate over each digit in the binary number\n",
        "    for digit in binary:\n",
        "        decimal += int(digit) * (2 ** power)\n",
        "        power -= 1  # Move to the next lower power of 2\n",
        "\n",
        "    return decimal\n",
        "\n",
        "# Main program\n",
        "if __name__ == \"__main__\":\n",
        "    # User input for binary number\n",
        "    binary_input = input(\"Enter a binary number: \")\n",
        "\n",
        "    # Check if the input is a valid binary number\n",
        "    if not all(bit in '01' for bit in binary_input):\n",
        "        print(\"Invalid binary number. Please enter a valid binary number.\")\n",
        "    else:\n",
        "        # Convert binary to decimal and print the result\n",
        "        decimal_result = binary_to_decimal(binary_input)\n",
        "        print(\"Decimal equivalent:\", decimal_result)"
      ],
      "metadata": {
        "id": "JuRRKukfQYoP",
        "colab": {
          "base_uri": "https://localhost:8080/"
        },
        "outputId": "9920d3ea-6d58-4239-e559-0edb1cb03335"
      },
      "execution_count": null,
      "outputs": [
        {
          "output_type": "stream",
          "name": "stdout",
          "text": [
            "Enter a binary number: 2\n",
            "Invalid binary number. Please enter a valid binary number.\n"
          ]
        }
      ]
    },
    {
      "cell_type": "markdown",
      "source": [
        "## 10. Matrix Transposition:\n",
        "Create a program that transposes a given matrix. The user should input the matrix as a list of lists, and the program should output the transposed matrix. For example, if the input is:"
      ],
      "metadata": {
        "id": "bhFgXCu52R3n"
      }
    },
    {
      "cell_type": "code",
      "source": [
        "def transpose_matrix(matrix):\n",
        "    # Get the number of rows and columns in the matrix\n",
        "    rows = len(matrix)\n",
        "    cols = len(matrix[0])\n",
        "\n",
        "    # Create a new matrix to store the transposed matrix\n",
        "    transposed_matrix = [[0 for _ in range(rows)] for _ in range(cols)]\n",
        "\n",
        "    # Iterate over the original matrix and fill the transposed matrix\n",
        "    for i in range(rows):\n",
        "        for j in range(cols):\n",
        "            transposed_matrix[j][i] = matrix[i][j]\n",
        "\n",
        "    return transposed_matrix\n",
        "\n",
        "# User input for the matrix\n",
        "matrix = []\n",
        "rows = int(input(\"Enter the number of rows: \"))\n",
        "cols = int(input(\"Enter the number of columns: \"))\n",
        "\n",
        "print(\"Enter the elements of the matrix:\")\n",
        "for i in range(rows):\n",
        "    row = []\n",
        "    for j in range(cols):\n",
        "        element = int(input(f\"Enter element [{i+1}][{j+1}]: \"))\n",
        "        row.append(element)\n",
        "    matrix.append(row)\n",
        "\n",
        "# Transpose the matrix and print the result\n",
        "transposed_matrix = transpose_matrix(matrix)\n",
        "print(\"\\nTransposed Matrix:\")\n",
        "for row in transposed_matrix:\n",
        "    print(row)"
      ],
      "metadata": {
        "id": "DhprwtQ02hWg",
        "colab": {
          "base_uri": "https://localhost:8080/"
        },
        "outputId": "f1529147-f155-4b0f-e939-f34161b7d8ef"
      },
      "execution_count": null,
      "outputs": [
        {
          "output_type": "stream",
          "name": "stdout",
          "text": [
            "Enter the number of rows: 2\n",
            "Enter the number of columns: 2\n",
            "Enter the elements of the matrix:\n",
            "Enter element [1][1]: 1 \n",
            "Enter element [1][2]: 2\n",
            "Enter element [2][1]: 3\n",
            "Enter element [2][2]: 4\n",
            "\n",
            "Transposed Matrix:\n",
            "[1, 3]\n",
            "[2, 4]\n"
          ]
        }
      ]
    },
    {
      "cell_type": "markdown",
      "source": [
        "`Feel free to tackle these exercises and let me know if you have any questions or need further explanations!`"
      ],
      "metadata": {
        "id": "l1a5wpfM2hv6"
      }
    },
    {
      "cell_type": "markdown",
      "source": [
        "# Part Three File Handling\n",
        "Calm and do it slowly and in github also try to upload the files possible"
      ],
      "metadata": {
        "id": "ZlrFrill3Bl4"
      }
    },
    {
      "cell_type": "markdown",
      "source": [
        "## 11. program to open the text file and edit it"
      ],
      "metadata": {
        "id": "-9k8YJfF3BLW"
      }
    },
    {
      "cell_type": "code",
      "source": [
        "from google.colab import drive\n",
        "drive.mount('/content/drive')"
      ],
      "metadata": {
        "colab": {
          "base_uri": "https://localhost:8080/"
        },
        "id": "CRyWMetZesa2",
        "outputId": "3280057e-953b-4ecc-f703-a7b7bd5ce862"
      },
      "execution_count": null,
      "outputs": [
        {
          "output_type": "stream",
          "name": "stdout",
          "text": [
            "Mounted at /content/drive\n"
          ]
        }
      ]
    },
    {
      "cell_type": "code",
      "source": [
        "# Open the file in read mode\n",
        "with open('welcome.txt', 'r') as file:\n",
        "    # Read the content of the file\n",
        "    content = file.read()\n",
        "\n",
        "# Edit the content as needed\n",
        "# For example, let's add some text at the end\n",
        "content += \"\\nwelcome to python programming.\"\n",
        "\n",
        "# Open the file in write mode to save the changes\n",
        "with open('welcome.txt', 'w') as file:\n",
        "    # Write the modified content back to the file\n",
        "    file.write(content)\n"
      ],
      "metadata": {
        "id": "Quy4F2UR3c04"
      },
      "execution_count": null,
      "outputs": []
    },
    {
      "cell_type": "markdown",
      "source": [
        "## 12. Program to list all the file in the directory\n"
      ],
      "metadata": {
        "id": "ovYWZKNH3AH_"
      }
    },
    {
      "cell_type": "code",
      "source": [
        "import os\n",
        "\n",
        "DIR='/content/drive/MyDrive/datascience'\n",
        "print(DIR)\n"
      ],
      "metadata": {
        "id": "S260xGwo38vk",
        "colab": {
          "base_uri": "https://localhost:8080/"
        },
        "outputId": "02b4d05e-db00-4ab7-9af6-837682d2cd23"
      },
      "execution_count": null,
      "outputs": [
        {
          "output_type": "stream",
          "name": "stdout",
          "text": [
            "/content/drive/MyDrive/datascience\n"
          ]
        }
      ]
    },
    {
      "cell_type": "code",
      "source": [
        "for file in os.listdir(DIR):\n",
        "    print(file)"
      ],
      "metadata": {
        "colab": {
          "base_uri": "https://localhost:8080/"
        },
        "id": "mJqj2l1ii-eP",
        "outputId": "06225552-798c-42df-c103-6519fa4deb5d"
      },
      "execution_count": null,
      "outputs": [
        {
          "output_type": "stream",
          "name": "stdout",
          "text": [
            "Unit-3-1.pdf\n",
            "Unit-4.pdf\n",
            "Unit-3-2.pdf\n",
            "Unit-5.pdf\n",
            "Unit-1.pdf\n",
            "Unit-2.pdf\n"
          ]
        }
      ]
    },
    {
      "cell_type": "markdown",
      "source": [
        "## 13. program to find the name of list only the text file and only the image file specifically\n"
      ],
      "metadata": {
        "id": "pNalRqq-3mjE"
      }
    },
    {
      "cell_type": "code",
      "source": [
        "import os\n",
        "\n",
        "def list_text_files(sample_data):\n",
        "    text_files = [file for file in os.listdir(sample_data) if file.lower().endswith(('.txt', '.csv', '.log'))]\n",
        "    return text_files\n",
        "\n",
        "def list_image_files(sample_data):\n",
        "    image_files = [file for file in os.listdir(sample_data) if file.lower().endswith(('.jpg', '.jpeg', '.png', '.gif', '.bmp'))]\n",
        "    return image_files\n",
        "\n",
        "# Replace 'your_directory_path' with the actual path of the directory\n",
        "directory_path = '/content/sample_data'\n",
        "\n",
        "text_files = list_text_files(directory_path)\n",
        "image_files = list_image_files(directory_path)\n",
        "\n",
        "print(\"Text Files:\")\n",
        "for text_file in text_files:\n",
        "    print(text_file)\n",
        "\n",
        "print(\"\\nImage Files:\")\n",
        "for image_file in image_files:\n",
        "    print(image_file)\n"
      ],
      "metadata": {
        "colab": {
          "base_uri": "https://localhost:8080/"
        },
        "id": "rkN-eMg6s0mT",
        "outputId": "3c76f8a2-7233-470a-e557-c2f3944fb77f"
      },
      "execution_count": null,
      "outputs": [
        {
          "output_type": "stream",
          "name": "stdout",
          "text": [
            "Text Files:\n",
            "wecome.txt\n",
            "california_housing_train.csv\n",
            "mnist_test.csv\n",
            "mnist_train_small.csv\n",
            "california_housing_test.csv\n",
            "\n",
            "Image Files:\n"
          ]
        }
      ]
    },
    {
      "cell_type": "markdown",
      "source": [
        "## 14. Program to copy the the file and also the bundle of file to the specific location"
      ],
      "metadata": {
        "id": "7xVL49o739jv"
      }
    },
    {
      "cell_type": "code",
      "source": [
        "file1 = open(\"file1.txt\", \"r\")\n",
        "file2 = open(\"file2.txt\", \"w\")\n",
        "\n",
        "for line in file1:\n",
        "    file2.write(line)\n",
        "\n",
        "file1.close()\n",
        "file2.close()\n",
        "\n",
        "# Now, open \"file2.txt\" for reading and print its content\n",
        "file3 = open(\"file2.txt\", \"r\")\n",
        "print(file3.read())\n",
        "\n",
        "file3.close()\n"
      ],
      "metadata": {
        "id": "rlMl6YVH4I_z",
        "colab": {
          "base_uri": "https://localhost:8080/"
        },
        "outputId": "8fefb08e-57ac-4772-bfb1-8195b7c3d095"
      },
      "execution_count": null,
      "outputs": [
        {
          "output_type": "stream",
          "name": "stdout",
          "text": [
            "hi\n"
          ]
        }
      ]
    },
    {
      "cell_type": "markdown",
      "source": [
        "## 15. Program to delete the specific file and folder"
      ],
      "metadata": {
        "id": "rzaMo5ZT4E7R"
      }
    },
    {
      "cell_type": "markdown",
      "source": [],
      "metadata": {
        "id": "O2PS1zXT4pF5"
      }
    },
    {
      "cell_type": "code",
      "source": [
        "import os\n",
        "import shutil\n",
        "\n",
        "# Check if the file exists and delete it\n",
        "if os.path.isfile(\"wecome.txt\"):\n",
        "    os.remove(\"wecome.txt\")\n",
        "    print(\"File 'wecome.txt' deleted\")\n",
        "else:\n",
        "    print(\"File 'wecome.txt' not found\")\n",
        "\n",
        "# Check if the directory \"empty-dir\" exists and delete it\n",
        "if os.path.isdir(\"empty-dir\"):\n",
        "    os.rmdir(\"empty-dir\")\n",
        "    print(\"Directory 'empty-dir' deleted\")\n",
        "else:\n",
        "    print(\"Directory 'empty-dir' not found\")\n",
        "\n",
        "# Check if the directory \"nonempty-dir\" exists and delete it with all its contents\n",
        "if os.path.isdir(\"nonempty-dir\"):\n",
        "    shutil.rmtree(\"nonempty-dir\")\n",
        "    print(\"Directory 'nonempty-dir' and its contents deleted\")\n",
        "else:\n",
        "    print(\"Directory 'nonempty-dir' not found\")\n"
      ],
      "metadata": {
        "colab": {
          "base_uri": "https://localhost:8080/"
        },
        "id": "raEcDbDSwHTi",
        "outputId": "9c1b9ec9-da52-4ade-a247-22cbd3219aee"
      },
      "execution_count": null,
      "outputs": [
        {
          "output_type": "stream",
          "name": "stdout",
          "text": [
            "File 'wecome.txt' deleted\n",
            "Directory 'empty-dir' not found\n",
            "Directory 'nonempty-dir' not found\n"
          ]
        }
      ]
    }
  ]
}
