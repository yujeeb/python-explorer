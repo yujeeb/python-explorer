{
  "nbformat": 4,
  "nbformat_minor": 0,
  "metadata": {
    "colab": {
      "provenance": []
    },
    "kernelspec": {
      "name": "python3",
      "display_name": "Python 3"
    },
    "language_info": {
      "name": "python"
    }
  },
  "cells": [
    {
      "cell_type": "markdown",
      "source": [
        "# 1.Difference between the list and tuple?"
      ],
      "metadata": {
        "id": "1GLt95w2s4DT"
      }
    },
    {
      "cell_type": "markdown",
      "source": [
        "**Lists**"
      ],
      "metadata": {
        "id": "pffN76TUEdn4"
      }
    },
    {
      "cell_type": "markdown",
      "source": [
        "Mutable: Elements can be added, removed, or modified after creation.\n",
        "\n",
        "Syntax: Defined using square brackets [].\n",
        "\n",
        "Operations: Supports a variety of methods like append(), extend(), and remove()."
      ],
      "metadata": {
        "id": "-DI-id_nEHb-"
      }
    },
    {
      "cell_type": "markdown",
      "source": [
        "**Tuples**"
      ],
      "metadata": {
        "id": "pFgWJJmqEjxn"
      }
    },
    {
      "cell_type": "markdown",
      "source": [
        "Immutable: Elements cannot be changed after creation, making tuples immutable.\n",
        "\n",
        "Syntax: Defined using parentheses ().\n",
        "\n",
        "Limited Operations: Offers fewer methods compared to lists. Operations are mostly for accessing elements (index(), count())."
      ],
      "metadata": {
        "id": "OhmlRk8fEmly"
      }
    },
    {
      "cell_type": "code",
      "source": [
        "# List example\n",
        "my_list = [1, 2, 3, 4]\n",
        "my_list.append(5)\n",
        "print(my_list)\n",
        "\n",
        "# Tuple example\n",
        "my_tuple = (1, 2, 3, 4)\n",
        "# This will raise an error since tuples are immutable\n",
        "# my_tuple.append(5)\n"
      ],
      "metadata": {
        "colab": {
          "base_uri": "https://localhost:8080/"
        },
        "id": "2a_ENKVLs6bL",
        "outputId": "5379d4a4-22f9-47f0-9a60-b569ae432693"
      },
      "execution_count": null,
      "outputs": [
        {
          "output_type": "stream",
          "name": "stdout",
          "text": [
            "[1, 2, 3, 4, 5]\n"
          ]
        }
      ]
    },
    {
      "cell_type": "markdown",
      "source": [
        "2.How list is different from an array"
      ],
      "metadata": {
        "id": "R2akVa6Js-Bn"
      }
    },
    {
      "cell_type": "markdown",
      "source": [
        "The list is built in data type and mutable which can be changed.\n",
        "\n",
        "And the array is the part of numpy library which have fixed size they can't be changed."
      ],
      "metadata": {
        "id": "tqseqvMJLuZE"
      }
    },
    {
      "cell_type": "code",
      "source": [
        "# Using a list\n",
        "my_list = [1, 2, 3, 4]\n",
        "\n",
        "\n",
        "# Using a NumPy array\n",
        "import numpy as np\n",
        "my_array = np.array([1, 2, 3, 4])\n",
        "\n"
      ],
      "metadata": {
        "id": "E9z6dRSgs8xE"
      },
      "execution_count": null,
      "outputs": []
    },
    {
      "cell_type": "markdown",
      "source": [
        "3.Use the python list append(),copy(), clear, count, extends(), index(), insert(), pop(), reverse(), sort(), min(), max(),and sum()"
      ],
      "metadata": {
        "id": "Z1SDSD5utzqJ"
      }
    },
    {
      "cell_type": "code",
      "source": [
        "#append\n",
        "my_list = [1, 2, 3]\n",
        "my_list.append(4)\n",
        "print(my_list)\n"
      ],
      "metadata": {
        "colab": {
          "base_uri": "https://localhost:8080/"
        },
        "id": "KyYRiDohtwxA",
        "outputId": "c70a437a-bfa3-4c55-9bf9-3862221aa94c"
      },
      "execution_count": null,
      "outputs": [
        {
          "output_type": "stream",
          "name": "stdout",
          "text": [
            "[1, 2, 3, 4]\n"
          ]
        }
      ]
    },
    {
      "cell_type": "code",
      "source": [
        "#copy\n",
        "original_list = [1, 2, 3]\n",
        "copied_list = original_list.copy()\n"
      ],
      "metadata": {
        "id": "gxGI92d6xHnC"
      },
      "execution_count": null,
      "outputs": []
    },
    {
      "cell_type": "code",
      "source": [
        "#clear\n",
        "my_list = [1, 2, 3]\n",
        "my_list.clear()\n",
        "print(my_list)\n"
      ],
      "metadata": {
        "colab": {
          "base_uri": "https://localhost:8080/"
        },
        "id": "BA5NNPcGxRz_",
        "outputId": "20a227fa-4805-4435-d8fa-d4e4d422bbca"
      },
      "execution_count": null,
      "outputs": [
        {
          "output_type": "stream",
          "name": "stdout",
          "text": [
            "[]\n"
          ]
        }
      ]
    },
    {
      "cell_type": "code",
      "source": [
        "#count\n",
        "my_list = [1, 2, 2, 3, 2, 4]\n",
        "count_of_2 = my_list.count(2)\n",
        "print(count_of_2)\n"
      ],
      "metadata": {
        "colab": {
          "base_uri": "https://localhost:8080/"
        },
        "id": "PZTJf9sCxW09",
        "outputId": "d6d022ee-d42b-4fe4-fbb0-329174a0646a"
      },
      "execution_count": null,
      "outputs": [
        {
          "output_type": "stream",
          "name": "stdout",
          "text": [
            "3\n"
          ]
        }
      ]
    },
    {
      "cell_type": "code",
      "source": [
        "#extend\n",
        "list1 = [1, 2, 3]\n",
        "list2 = [4, 5, 6]\n",
        "list1.extend(list2)\n",
        "print(list1)\n"
      ],
      "metadata": {
        "colab": {
          "base_uri": "https://localhost:8080/"
        },
        "id": "E-Rzp_6-xdfq",
        "outputId": "fb1d293a-0a0c-4f5d-f4ba-3ffb4678c16d"
      },
      "execution_count": null,
      "outputs": [
        {
          "output_type": "stream",
          "name": "stdout",
          "text": [
            "[1, 2, 3, 4, 5, 6]\n"
          ]
        }
      ]
    },
    {
      "cell_type": "code",
      "source": [
        "#index\n",
        "my_list = [1, 2, 3, 2, 4]\n",
        "index_of_2 = my_list.index(2)\n",
        "print(index_of_2)\n"
      ],
      "metadata": {
        "colab": {
          "base_uri": "https://localhost:8080/"
        },
        "id": "K8TU-hYCxlNq",
        "outputId": "3d36ac79-e314-4df0-963a-1bb571aeb7cb"
      },
      "execution_count": null,
      "outputs": [
        {
          "output_type": "stream",
          "name": "stdout",
          "text": [
            "1\n"
          ]
        }
      ]
    },
    {
      "cell_type": "code",
      "source": [
        "#insert\n",
        "my_list = [1, 2, 3, 4]\n",
        "my_list.insert(1, 5)\n",
        "print(my_list)"
      ],
      "metadata": {
        "colab": {
          "base_uri": "https://localhost:8080/"
        },
        "id": "CItI-d02xtBz",
        "outputId": "1e3fe0b6-6183-484d-f54c-42e474810fa1"
      },
      "execution_count": null,
      "outputs": [
        {
          "output_type": "stream",
          "name": "stdout",
          "text": [
            "[1, 5, 2, 3, 4]\n"
          ]
        }
      ]
    },
    {
      "cell_type": "code",
      "source": [
        "#pop\n",
        "my_list = [1, 2, 3, 4]\n",
        "popped_element = my_list.pop(1)\n",
        "print(popped_element)\n"
      ],
      "metadata": {
        "colab": {
          "base_uri": "https://localhost:8080/"
        },
        "id": "dpdz_ug1x15M",
        "outputId": "42d51760-037a-4bfb-e774-def297fac349"
      },
      "execution_count": null,
      "outputs": [
        {
          "output_type": "stream",
          "name": "stdout",
          "text": [
            "2\n"
          ]
        }
      ]
    },
    {
      "cell_type": "code",
      "source": [
        "#reverse\n",
        "my_list = [1, 2, 3, 4]\n",
        "my_list.reverse()\n",
        "print(my_list)\n"
      ],
      "metadata": {
        "colab": {
          "base_uri": "https://localhost:8080/"
        },
        "id": "uhj0q2IoyHKi",
        "outputId": "20679af4-e837-41f9-c7d7-289ba78d0f57"
      },
      "execution_count": null,
      "outputs": [
        {
          "output_type": "stream",
          "name": "stdout",
          "text": [
            "[4, 3, 2, 1]\n"
          ]
        }
      ]
    },
    {
      "cell_type": "code",
      "source": [
        "#sort\n",
        "my_list = [3, 1, 4, 1, 5, 9, 2]\n",
        "my_list.sort()\n",
        "print(my_list)\n"
      ],
      "metadata": {
        "colab": {
          "base_uri": "https://localhost:8080/"
        },
        "id": "XV-5sZJ6yKFf",
        "outputId": "4e68bf70-e850-4da4-a55a-84bcead46bf7"
      },
      "execution_count": null,
      "outputs": [
        {
          "output_type": "stream",
          "name": "stdout",
          "text": [
            "[1, 1, 2, 3, 4, 5, 9]\n"
          ]
        }
      ]
    },
    {
      "cell_type": "code",
      "source": [
        "#min and max\n",
        "my_list = [3, 1, 4, 1, 5, 9, 2]\n",
        "minimum_value = min(my_list)\n",
        "maximum_value = max(my_list)\n",
        "print(minimum_value, maximum_value)\n"
      ],
      "metadata": {
        "colab": {
          "base_uri": "https://localhost:8080/"
        },
        "id": "-gviXESIyQ7d",
        "outputId": "a27f349b-aca1-40bb-8f31-7ccfa525bd4d"
      },
      "execution_count": null,
      "outputs": [
        {
          "output_type": "stream",
          "name": "stdout",
          "text": [
            "1 9\n"
          ]
        }
      ]
    },
    {
      "cell_type": "code",
      "source": [
        "#sum\n",
        "my_list = [1, 2, 3, 4]\n",
        "total_sum = sum(my_list)\n",
        "print(total_sum)\n"
      ],
      "metadata": {
        "colab": {
          "base_uri": "https://localhost:8080/"
        },
        "id": "jdh_6-EpyWNb",
        "outputId": "c2eae2da-22ae-4195-8539-a9a2fbb72d9a"
      },
      "execution_count": null,
      "outputs": [
        {
          "output_type": "stream",
          "name": "stdout",
          "text": [
            "10\n"
          ]
        }
      ]
    },
    {
      "cell_type": "markdown",
      "source": [
        "4.How would you divide the list into two parts?"
      ],
      "metadata": {
        "id": "R6-6EVRh0DeL"
      }
    },
    {
      "cell_type": "code",
      "source": [
        "#here i have used slicing method\n",
        "my_list = [1, 2, 3, 4, 5, 6, 7, 8, 9]\n",
        "\n",
        "# Divide into two parts\n",
        "mid_point = len(my_list) // 2\n",
        "first_part = my_list[:mid_point]\n",
        "second_part = my_list[mid_point:]\n",
        "\n",
        "print(\"First part:\", first_part)\n",
        "print(\"Second part:\", second_part)\n"
      ],
      "metadata": {
        "colab": {
          "base_uri": "https://localhost:8080/"
        },
        "id": "L4EutqaP0Fj_",
        "outputId": "59db59d4-efa3-4be4-c90d-2048272de80b"
      },
      "execution_count": null,
      "outputs": [
        {
          "output_type": "stream",
          "name": "stdout",
          "text": [
            "First part: [1, 2, 3, 4]\n",
            "Second part: [5, 6, 7, 8, 9]\n"
          ]
        }
      ]
    },
    {
      "cell_type": "markdown",
      "source": [
        "5.how to filter the multiple of 3 from a given list and them remove the odd number from the new filtered list.\n"
      ],
      "metadata": {
        "id": "2tpGiSUN_eug"
      }
    },
    {
      "cell_type": "code",
      "source": [
        "original_list = [1, 2, 3, 4, 5, 6, 7, 8, 9, 10]\n",
        "\n",
        "# Filter multiples of 3\n",
        "multiples_of_3 = [x for x in original_list if x % 3 == 0]\n",
        "\n",
        "# Remove odd numbers from the filtered list\n",
        "filtered_list = [x for x in multiples_of_3 if x % 2 == 0]\n",
        "\n",
        "print(\"Original List:\", original_list)\n",
        "print(\"Filtered List (Multiples of 3):\", multiples_of_3)\n",
        "print(\"Final Filtered List (Even multiples of 3):\", filtered_list)\n"
      ],
      "metadata": {
        "colab": {
          "base_uri": "https://localhost:8080/"
        },
        "id": "KL6hoWaI_ixx",
        "outputId": "9e761d32-caa0-4d78-a365-d893cec9f14d"
      },
      "execution_count": null,
      "outputs": [
        {
          "output_type": "stream",
          "name": "stdout",
          "text": [
            "Original List: [1, 2, 3, 4, 5, 6, 7, 8, 9, 10]\n",
            "Filtered List (Multiples of 3): [3, 6, 9]\n",
            "Final Filtered List (Even multiples of 3): [6]\n"
          ]
        }
      ]
    },
    {
      "cell_type": "markdown",
      "source": [
        "6.How you can access keys and values simultaneously and update its value"
      ],
      "metadata": {
        "id": "q7r-3deH_sGJ"
      }
    },
    {
      "cell_type": "code",
      "source": [
        "my_dict = {'a': 1, 'b': 2, 'c': 3, 'd': 4}\n",
        "\n",
        "# Accessing keys and values simultaneously\n",
        "for key, value in my_dict.items():\n",
        "    print(f\"Key: {key}, Value: {value}\")\n",
        "\n",
        "# Update the values\n",
        "for key in my_dict:\n",
        "    my_dict[key] = my_dict[key] * 2\n",
        "\n",
        "# Print the updated dictionary\n",
        "print(\"Updated Dictionary:\", my_dict)\n"
      ],
      "metadata": {
        "colab": {
          "base_uri": "https://localhost:8080/"
        },
        "id": "QafPF8Xq_s7Q",
        "outputId": "4f36fbd2-0c84-4f21-f44c-5ea40e263baa"
      },
      "execution_count": null,
      "outputs": [
        {
          "output_type": "stream",
          "name": "stdout",
          "text": [
            "Key: a, Value: 1\n",
            "Key: b, Value: 2\n",
            "Key: c, Value: 3\n",
            "Key: d, Value: 4\n",
            "Updated Dictionary: {'a': 2, 'b': 4, 'c': 6, 'd': 8}\n"
          ]
        }
      ]
    },
    {
      "cell_type": "markdown",
      "source": [
        "7.Write python program to join, merge, concatente the two dictionaries.."
      ],
      "metadata": {
        "id": "PdY8__ZZ_zLo"
      }
    },
    {
      "cell_type": "code",
      "source": [
        "# Using union() method\n",
        "def merge_dicts(dict1, dict2):\n",
        "    return dict1 | dict2\n",
        "\n",
        "# Example\n",
        "dict1 = {'a': 1, 'b': 2}\n",
        "dict2 = {'b': 3, 'c': 4}\n",
        "\n",
        "merged_dict = merge_dicts(dict1, dict2)\n",
        "print(\"Merged Dictionary:\", merged_dict)\n"
      ],
      "metadata": {
        "colab": {
          "base_uri": "https://localhost:8080/"
        },
        "id": "2IqIsYPB_4HN",
        "outputId": "c9064793-5a3a-46b8-ef95-7eb81ab3b534"
      },
      "execution_count": null,
      "outputs": [
        {
          "output_type": "stream",
          "name": "stdout",
          "text": [
            "Merged Dictionary: {'a': 1, 'b': 3, 'c': 4}\n"
          ]
        }
      ]
    },
    {
      "cell_type": "markdown",
      "source": [
        "8.How would you check a specific keys from the dictionary??"
      ],
      "metadata": {
        "id": "uRmlYpQjAPHK"
      }
    },
    {
      "cell_type": "code",
      "source": [
        "#using key word \"in\"\n",
        "my_dict = {'a': 1, 'b': 2, 'c': 3}\n",
        "\n",
        "# Check if a specific key exists\n",
        "key_to_check = 'b'\n",
        "if key_to_check in my_dict:\n",
        "    print(f\"The key '{key_to_check}' exists in the dictionary with value: {my_dict[key_to_check]}\")\n",
        "else:\n",
        "    print(f\"The key '{key_to_check}' does not exist in the dictionary.\")\n"
      ],
      "metadata": {
        "colab": {
          "base_uri": "https://localhost:8080/"
        },
        "id": "CXgYECAGAacP",
        "outputId": "989c4b8e-904f-4db5-845c-96f875349c32"
      },
      "execution_count": null,
      "outputs": [
        {
          "output_type": "stream",
          "name": "stdout",
          "text": [
            "The key 'b' exists in the dictionary with value: 2\n"
          ]
        }
      ]
    },
    {
      "cell_type": "markdown",
      "source": [
        "9.write a python program to find the unique vowel present in the sentence"
      ],
      "metadata": {
        "id": "NIo_sNgZAhtX"
      }
    },
    {
      "cell_type": "code",
      "source": [
        "def unique_vowels(sentence):\n",
        "    return list(set(sentence.lower()) & set(\"aeiou\"))\n",
        "\n",
        "# Example usage:\n",
        "input_sentence = input(\"Enter a sentence: \")\n",
        "result = unique_vowels(input_sentence)\n",
        "\n",
        "print(\"Unique vowels in the sentence:\", result)\n"
      ],
      "metadata": {
        "colab": {
          "base_uri": "https://localhost:8080/"
        },
        "id": "rDyQx-OdAtMG",
        "outputId": "ac4213a7-68e0-4019-9897-e09812d8e5fd"
      },
      "execution_count": 31,
      "outputs": [
        {
          "output_type": "stream",
          "name": "stdout",
          "text": [
            "Enter a sentence: sam\n",
            "Unique vowels in the sentence: ['a']\n"
          ]
        }
      ]
    },
    {
      "cell_type": "markdown",
      "source": [
        "10.We know that tuple is immutable, do any thing and add element to the tuples."
      ],
      "metadata": {
        "id": "OPq3-LV1A4di"
      }
    },
    {
      "cell_type": "code",
      "source": [
        "#You can create a new tuple by concatenating two or more tuples.\n",
        "tuple1 = (1, 2, 3)\n",
        "tuple2 = (4, 5, 6)\n",
        "\n",
        "# Concatenate tuples\n",
        "new_tuple = tuple1 + tuple2\n",
        "print(new_tuple)"
      ],
      "metadata": {
        "colab": {
          "base_uri": "https://localhost:8080/"
        },
        "id": "t8FX4VrkA8El",
        "outputId": "4d074ef0-f6c2-4f76-b9fe-58429398839b"
      },
      "execution_count": null,
      "outputs": [
        {
          "output_type": "stream",
          "name": "stdout",
          "text": [
            "(1, 2, 3, 4, 5, 6)\n"
          ]
        }
      ]
    },
    {
      "cell_type": "markdown",
      "source": [
        "11.How would you sum the list of tuple and sum of tuple of list\n",
        "ist = [(2,3),(4,5),(6,4)] output= [5,9,10]\n",
        "\n",
        "tuple =([2,3],[4,5],[6,4]) output = (5,9,10)"
      ],
      "metadata": {
        "id": "qthwpJLfBIF3"
      }
    },
    {
      "cell_type": "code",
      "source": [
        "#sum of tuples in a list\n",
        "tuple_list = [(2, 3), (4, 5), (6, 4)]\n",
        "\n",
        "# Sum the elements of tuples within the list\n",
        "sum_result = [sum(t) for t in tuple_list]\n",
        "\n",
        "print(\"Sum of tuples in the list:\", sum_result)\n",
        "\n"
      ],
      "metadata": {
        "colab": {
          "base_uri": "https://localhost:8080/"
        },
        "id": "U4fAb2epBbwB",
        "outputId": "2e5aceae-a80b-48c6-a1b8-c2c8b550e12a"
      },
      "execution_count": null,
      "outputs": [
        {
          "output_type": "stream",
          "name": "stdout",
          "text": [
            "Sum of tuples in the list: [5, 9, 10]\n"
          ]
        }
      ]
    },
    {
      "cell_type": "code",
      "source": [
        "#sum of lists in a tuple\n",
        "list_tuple = ([2, 3], [4, 5], [6, 4])\n",
        "\n",
        "# Sum the elements of lists within the tuple\n",
        "sum_result = tuple(sum(sublist) for sublist in list_tuple)\n",
        "\n",
        "print(\"Sum of lists in the tuple:\", sum_result)\n",
        "\n"
      ],
      "metadata": {
        "colab": {
          "base_uri": "https://localhost:8080/"
        },
        "id": "goCcGpOiBrYx",
        "outputId": "49cdd084-50a5-4eb4-d781-6f8a00eb43db"
      },
      "execution_count": null,
      "outputs": [
        {
          "output_type": "stream",
          "name": "stdout",
          "text": [
            "Sum of lists in the tuple: (5, 9, 10)\n"
          ]
        }
      ]
    },
    {
      "cell_type": "markdown",
      "source": [
        "12.FIND THE FREQUENCY OF THE KEYS IN THE GIVEN DICTIONARY"
      ],
      "metadata": {
        "id": "KzWF4CLAMC45"
      }
    },
    {
      "cell_type": "code",
      "source": [
        "dict = {'a': 1, 'b': 2, 'c': 2, 'd': 3, 'e': 2, 'f': 4}\n",
        "\n",
        "frequencies = {}\n",
        "for value in dict.values():\n",
        "    if value in frequencies:\n",
        "        frequencies[value] += 1\n",
        "    else:\n",
        "         frequencies[value] = 1\n",
        "\n",
        "for value, frequency in frequencies.items():\n",
        "    print(f\"The frequency of value {value} is: {frequency}\")"
      ],
      "metadata": {
        "colab": {
          "base_uri": "https://localhost:8080/"
        },
        "id": "TmCTLcGaMHut",
        "outputId": "5e0259b3-5105-4536-fb77-829738985988"
      },
      "execution_count": null,
      "outputs": [
        {
          "output_type": "stream",
          "name": "stdout",
          "text": [
            "The frequency of value 1 is: 1\n",
            "The frequency of value 2 is: 3\n",
            "The frequency of value 3 is: 1\n",
            "The frequency of value 4 is: 1\n"
          ]
        }
      ]
    },
    {
      "cell_type": "markdown",
      "source": [],
      "metadata": {
        "id": "hqnyRzdOCO9c"
      }
    },
    {
      "cell_type": "markdown",
      "source": [],
      "metadata": {
        "id": "tDo8_1IgCQYo"
      }
    }
  ]
}