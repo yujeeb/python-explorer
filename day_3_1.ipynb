{
  "nbformat": 4,
  "nbformat_minor": 0,
  "metadata": {
    "colab": {
      "provenance": []
    },
    "kernelspec": {
      "name": "python3",
      "display_name": "Python 3"
    },
    "language_info": {
      "name": "python"
    }
  },
  "cells": [
    {
      "cell_type": "markdown",
      "source": [
        "create a dictionary where the keys correspond to the area of a flat adn value for each is the price of the house for 10 flat in kompally\n"
      ],
      "metadata": {
        "id": "gtanidutfqtu"
      }
    },
    {
      "cell_type": "code",
      "source": [
        "# Dictionary of house area and house prices of 10 houses in\n",
        "area_price = {'Flat1': 1000, 'Flat2': 1200, 'Flat3': 900, 'Flat4': 1100, 'Flat5': 950,\n",
        "              'Flat6': 1300, 'Flat7': 800, 'Flat8': 1150, 'Flat9': 1050, 'Flat10': 1250}\n",
        "#HInt: area_price = {area:price}"
      ],
      "metadata": {
        "id": "lMDJxVFIHQ4t"
      },
      "execution_count": 18,
      "outputs": []
    },
    {
      "cell_type": "markdown",
      "source": [
        "Now broker predicts the price as can be written as : predicted_price(area) = 0.06*area + 15"
      ],
      "metadata": {
        "id": "18E_WhsFJjoc"
      }
    },
    {
      "cell_type": "code",
      "source": [
        "def predicted_price(area):\n",
        "    return 0.06 * area + 15"
      ],
      "metadata": {
        "id": "IIybO8Y7HNzu"
      },
      "execution_count": 11,
      "outputs": []
    },
    {
      "cell_type": "markdown",
      "source": [
        "using the concept of list comprehension,create a list of predicted flat price using the above formula"
      ],
      "metadata": {
        "id": "kHvAQUsNkNMA"
      }
    },
    {
      "cell_type": "code",
      "source": [
        "# Create a list of house areas\n",
        "predicted_prices = [predicted_price(area) for area in area_price.values()]\n",
        "\n",
        "# Print the list of predicted flat prices\n",
        "print(\"List of predicted flat prices:\", predicted_prices)\n",
        "\n",
        "# Create a list of actual house prices\n",
        "actual_prices = list(area_price.values())\n"
      ],
      "metadata": {
        "colab": {
          "base_uri": "https://localhost:8080/"
        },
        "id": "TVaHrVYAJ6KZ",
        "outputId": "9504ae05-c3b1-462e-93a6-2d1a161ea811"
      },
      "execution_count": 12,
      "outputs": [
        {
          "output_type": "stream",
          "name": "stdout",
          "text": [
            "List of predicted flat prices: [90015.0, 78015.0, 96015.0, 72015.0, 102015.0, 84015.0, 93015.0, 99015.0, 66015.0, 108015.0]\n"
          ]
        }
      ]
    },
    {
      "cell_type": "markdown",
      "source": [
        "# Create another list which contains the squares of differences of each element of the two price lists : the actual prices and the predicted prices"
      ],
      "metadata": {
        "id": "9zC-7KKoJ40x"
      }
    },
    {
      "cell_type": "code",
      "source": [
        "squared_differences = [(actual - predicted) ** 2 for actual, predicted in zip(actual_prices, predicted_prices)]\n",
        "print(\"List of squared differences:\", squared_differences)"
      ],
      "metadata": {
        "colab": {
          "base_uri": "https://localhost:8080/"
        },
        "id": "yeAr80f-k3-i",
        "outputId": "50cd951a-21db-4b99-cfaf-8a8a64303dfd"
      },
      "execution_count": 13,
      "outputs": [
        {
          "output_type": "stream",
          "name": "stdout",
          "text": [
            "List of squared differences: [1988057700225.0, 1493247340225.0, 2261970880225.0, 1272350160225.0, 2553556060225.0, 1731816520225.0, 2122805290225.0, 2405554470225.0, 1069124980225.0, 2862813240225.0]\n"
          ]
        }
      ]
    },
    {
      "cell_type": "markdown",
      "source": [
        "## <u> Problem 2</u>\n",
        "\n",
        "## A sigmoid function is a mathematical function having a characteristic \"S\"-shaped curve or sigmoid curve. A common example of a sigmoid function is the logistic function shown in the first figure and defined by the formula:\n",
        "\n",
        "$$ h(x) =  \\frac{\\mathrm{1} }{\\mathrm{1} + e^{-x} }  $$\n",
        "\n",
        "\n",
        "## Range is defined as all the possible values which the function $h(x)$ can take. Domain is defined as all the possible values which $x$ can take. In this case, range of the function is between 0 to 1 and the domain of the function is all real numbers\n",
        "\n",
        "\n",
        "\n"
      ],
      "metadata": {
        "id": "fUnqtWJtLbrS"
      }
    },
    {
      "cell_type": "markdown",
      "source": [
        "\n",
        "You are given a list of values of  x . You need to use list comprehension to calculate the corresponding transformation according to the sigmoid function defined above\n"
      ],
      "metadata": {
        "id": "46W8_dyUL8Pa"
      }
    },
    {
      "cell_type": "code",
      "source": [
        "# Sigmoid function\n",
        "sigmoid = lambda x: 1 / (1 + 2.71828 ** -x)\n",
        "\n",
        "# Given list of values of x\n",
        "x_values = [-2, -1, 0, 1, 2]\n",
        "\n",
        "# List comprehension to calculate sigmoid transformation for each x\n",
        "sigmoid_values = [sigmoid(x) for x in x_values]\n",
        "\n",
        "# List comprehension for boolean values based on sigmoid range\n",
        "boolean_values = [(0 <= sigmoid_x <= 1) for sigmoid_x in sigmoid_values]\n",
        "\n",
        "# List comprehension for values greater than 0.5\n",
        "greater_than_half = [sigmoid_x for sigmoid_x in sigmoid_values if sigmoid_x > 0.5]\n",
        "\n",
        "# Print the results\n",
        "print(\"Sigmoid values:\", sigmoid_values)\n",
        "print(\"Boolean values:\", boolean_values)\n",
        "print(\"Values greater than 0.5:\", greater_than_half)"
      ],
      "metadata": {
        "colab": {
          "base_uri": "https://localhost:8080/"
        },
        "id": "KMvoNkVMMMfp",
        "outputId": "4023c904-f543-43ba-97bb-77a3a776dff8"
      },
      "execution_count": 14,
      "outputs": [
        {
          "output_type": "stream",
          "name": "stdout",
          "text": [
            "Sigmoid values: [0.11920306327063111, 0.26894155362156696, 0.5, 0.731058446378433, 0.880796936729369]\n",
            "Boolean values: [True, True, True, True, True]\n",
            "Values greater than 0.5: [0.731058446378433, 0.880796936729369]\n"
          ]
        }
      ]
    },
    {
      "cell_type": "markdown",
      "source": [
        "# Problem 3\n",
        "## You are given a sentence : <code>\"I have been walking and running and dancing and smiling and laughing all my life, yet it all seems pointless. So i stoped thinking and started doing\"</code>\n",
        "\n",
        "## You are required to extract all those words from this sentence in a list which ends with <code>ing</code>"
      ],
      "metadata": {
        "id": "9iNvilHWMnZ0"
      }
    },
    {
      "cell_type": "code",
      "source": [
        "# Your sentence\n",
        "my_sentence = \"She was singing and playing the guitar, while enjoying the beautiful sunset. The birds were chirping, and the waves were crashing.\"\n",
        "\n",
        "# Extract words ending with \"ing\" using list comprehension\n",
        "res = [word.strip(\",.\") for word in my_sentence.split() if word.endswith(\"ing\")]\n",
        "\n",
        "# Print the result\n",
        "print(\"Words ending with 'ing':\", res)\n"
      ],
      "metadata": {
        "colab": {
          "base_uri": "https://localhost:8080/"
        },
        "id": "Vt8aBJoYMsp9",
        "outputId": "d77cc1f6-d2b9-4f01-c957-8a333965730d"
      },
      "execution_count": 15,
      "outputs": [
        {
          "output_type": "stream",
          "name": "stdout",
          "text": [
            "Words ending with 'ing': ['singing', 'playing', 'enjoying']\n"
          ]
        }
      ]
    },
    {
      "cell_type": "markdown",
      "source": [
        "# <u> Problem 4</u>\n",
        "\n",
        "#### Natural Language Processing or NLP is one of the most promising fields in Machine Learning. Most of the times in NLP we deal with the textual data (a bunch of strings). Sometimes when we are processing the text, it is a common practice to get rid of some set of stop words from our original text. By default stop words are very common words used in English language such as and, or, punctuations etc.\n",
        "\n",
        "#### In this exercise, you are provided with a default set of stop words and you need to add some extra set of custom words and remove these words from the given sentence and obtain the sentence without the stop words"
      ],
      "metadata": {
        "id": "o9czyuHDM-jH"
      }
    },
    {
      "cell_type": "code",
      "source": [
        "# A sample sentence\n",
        "sen=\"The sun hung low in the sky, casting long shadows across the rolling hills. Birds chirped merrily as they flitted from tree to tree, their songs filling the air with joy. A gentle breeze rustled the leaves, carrying with it the sweet scent of wildflowers. In the distance, a river meandered lazily through the valley, its waters shimmering in the golden light. Along its banks, tall grasses swayed in the wind, whispering secrets to the passing clouds. The world seemed to pause in that moment, as if holding its breath in anticipation of something magical. And indeed, there was magic all around, woven into the very fabric of nature itself. Each blade of grass, each petal of a flower, seemed to dance with life, imbued with a sense of wonder and awe. It was a scene straight out of a fairy tale, where dreams and reality intertwined in a beautiful tapestry of existence.\"\n",
        "# Print your sentence\n",
        "print(sen)"
      ],
      "metadata": {
        "colab": {
          "base_uri": "https://localhost:8080/"
        },
        "id": "mY9X1wSFM7Io",
        "outputId": "d58cc3b7-1e92-4ba7-8fbe-32a93346e581"
      },
      "execution_count": 16,
      "outputs": [
        {
          "output_type": "stream",
          "name": "stdout",
          "text": [
            "The sun hung low in the sky, casting long shadows across the rolling hills. Birds chirped merrily as they flitted from tree to tree, their songs filling the air with joy. A gentle breeze rustled the leaves, carrying with it the sweet scent of wildflowers. In the distance, a river meandered lazily through the valley, its waters shimmering in the golden light. Along its banks, tall grasses swayed in the wind, whispering secrets to the passing clouds. The world seemed to pause in that moment, as if holding its breath in anticipation of something magical. And indeed, there was magic all around, woven into the very fabric of nature itself. Each blade of grass, each petal of a flower, seemed to dance with life, imbued with a sense of wonder and awe. It was a scene straight out of a fairy tale, where dreams and reality intertwined in a beautiful tapestry of existence.\n"
          ]
        }
      ]
    },
    {
      "cell_type": "code",
      "source": [
        "# Default set of stop words\n",
        "stop_words = {\"i\", \"me\", \"my\", \"myself\", \"we\", \"our\", \"ours\", \"ourselves\", \"you\", \"your\", \"yours\", \"yourself\",\n",
        "              \"yourselves\", \"he\", \"him\", \"his\", \"himself\", \"she\", \"her\", \"hers\", \"herself\", \"it\", \"its\", \"itself\",\n",
        "              \"they\", \"them\", \"their\", \"theirs\", \"themselves\", \"what\", \"which\", \"who\", \"whom\", \"this\", \"that\",\n",
        "              \"these\", \"those\", \"am\", \"is\", \"are\", \"was\", \"were\", \"be\", \"been\", \"being\", \"have\", \"has\", \"had\",\n",
        "              \"having\", \"do\", \"does\", \"did\", \"doing\", \"a\", \"an\", \"the\", \"and\", \"but\", \"if\", \"or\", \"because\",\n",
        "              \"as\", \"until\", \"while\", \"of\", \"at\", \"by\", \"for\", \"with\", \"about\", \"against\", \"between\", \"into\",\n",
        "              \"through\", \"during\", \"before\", \"after\", \"above\", \"below\", \"to\", \"from\", \"up\", \"down\", \"in\", \"out\",\n",
        "              \"on\", \"off\", \"over\", \"under\", \"again\", \"further\", \"then\", \"once\", \"here\", \"there\", \"when\", \"where\",\n",
        "              \"why\", \"how\", \"all\", \"any\", \"both\", \"each\", \"few\", \"more\", \"most\", \"other\", \"some\", \"such\", \"no\",\n",
        "              \"nor\", \"not\", \"only\", \"own\", \"same\", \"so\", \"than\", \"too\", \"very\", \"s\", \"t\", \"can\", \"will\", \"just\",\n",
        "              \"don\", \"should\", \"now\"}"
      ],
      "metadata": {
        "id": "1_Lk_veBRLUH"
      },
      "execution_count": 8,
      "outputs": []
    },
    {
      "cell_type": "code",
      "source": [
        "custom_stop_words = {\"hello\",\"folks\",\"good\",\"morning\",\"half\",\"year\"}\n",
        "stop = stop_words.union(custom_stop_words)\n",
        "print(stop_words)"
      ],
      "metadata": {
        "colab": {
          "base_uri": "https://localhost:8080/"
        },
        "id": "Y1fJt2E9RUDL",
        "outputId": "a570248a-a04c-46a8-93ff-508f1d8d8b25"
      },
      "execution_count": 17,
      "outputs": [
        {
          "output_type": "stream",
          "name": "stdout",
          "text": [
            "{'yourselves', 'with', 'himself', 'if', 'so', 'him', 'on', 'nor', 'are', 'their', 'my', 'should', 'as', 'i', 'theirs', 'both', 'is', 'about', 'just', 'off', 't', 'then', 'she', 'does', 'yourself', 'was', 'such', 'had', 'been', 'for', 'again', 'from', 'too', 'to', 'each', 'of', 'in', 'be', 'ours', 'what', 'same', 'will', 'this', 'out', 'most', 'before', 'being', 'a', 'down', 'herself', 'more', 'while', 'when', 'any', 'were', 'its', 'but', 'it', 'only', 'up', 'not', 'itself', 'above', 'they', 'over', 'between', 'how', 'her', 'who', 'he', 'after', 'have', 'that', 'yours', 'by', 'our', 'these', 'which', 'under', 'an', 'now', 'very', 'through', 'because', 'once', 'into', 'doing', 'whom', 'the', 'themselves', 'against', 'myself', 'own', 'you', 'do', 'than', 'hers', 'here', 'his', 'and', 'them', 'has', 'those', 'at', 'no', 'did', 'or', 'few', 'me', 'there', 'your', 'until', 'further', 'all', 'we', 'ourselves', 'having', 'during', 'below', 'where', 'why', 'am', 'other', 'some', 'don', 's', 'can'}\n"
          ]
        }
      ]
    },
    {
      "cell_type": "code",
      "source": [
        "# Create the list of words in the given sentence.\n",
        "a = sen.split()"
      ],
      "metadata": {
        "id": "u0faPZPyRYQY"
      },
      "execution_count": 19,
      "outputs": []
    },
    {
      "cell_type": "code",
      "source": [
        "# Use list comprehension to remove the set of updated stop words from the list of words\n",
        "b = [word for word in a if word.lower() not in stop]"
      ],
      "metadata": {
        "id": "J8vU-801RY-v"
      },
      "execution_count": 20,
      "outputs": []
    },
    {
      "cell_type": "code",
      "source": [
        "# Finally using the join() method, get the sentence without the stop words. Keep in mind that every word in the sentence will be separated by space\n",
        "new_sen = ' '.join(b)\n",
        "\n",
        "# Print the modified sentence\n",
        "print(new_sen)"
      ],
      "metadata": {
        "colab": {
          "base_uri": "https://localhost:8080/"
        },
        "id": "SNemyiC7RcZ-",
        "outputId": "41af3147-d706-468c-fd56-06aef3950199"
      },
      "execution_count": 21,
      "outputs": [
        {
          "output_type": "stream",
          "name": "stdout",
          "text": [
            "sun hung low sky, casting long shadows across rolling hills. Birds chirped merrily flitted tree tree, songs filling air joy. gentle breeze rustled leaves, carrying sweet scent wildflowers. distance, river meandered lazily valley, waters shimmering golden light. Along banks, tall grasses swayed wind, whispering secrets passing clouds. world seemed pause moment, holding breath anticipation something magical. indeed, magic around, woven fabric nature itself. blade grass, petal flower, seemed dance life, imbued sense wonder awe. scene straight fairy tale, dreams reality intertwined beautiful tapestry existence.\n"
          ]
        }
      ]
    }
  ]
}