{
  "nbformat": 4,
  "nbformat_minor": 0,
  "metadata": {
    "colab": {
      "provenance": []
    },
    "kernelspec": {
      "name": "python3",
      "display_name": "Python 3"
    },
    "language_info": {
      "name": "python"
    }
  },
  "cells": [
    {
      "cell_type": "markdown",
      "source": [
        "# Write a python program to crate a lambda funciotn that adds 15 to a given number"
      ],
      "metadata": {
        "id": "WOWK7dqnsBNO"
      }
    },
    {
      "cell_type": "code",
      "execution_count": 2,
      "metadata": {
        "colab": {
          "base_uri": "https://localhost:8080/"
        },
        "id": "77hjRb_pq2Au",
        "outputId": "3eb9e3eb-915d-4d4c-8568-4cd12f0917f9"
      },
      "outputs": [
        {
          "output_type": "stream",
          "name": "stdout",
          "text": [
            "Enter a number: 4\n",
            "Result after adding 15: 19.0\n"
          ]
        }
      ],
      "source": [
        "add_15 = lambda x: x + 15\n",
        "input_number = float(input(\"Enter a number: \"))\n",
        "result = add_15(input_number)\n",
        "print(f\"Result after adding 15: {result}\")"
      ]
    },
    {
      "cell_type": "markdown",
      "source": [
        "## Write a function to create a prime number generator"
      ],
      "metadata": {
        "id": "g3da4yV3sGfY"
      }
    },
    {
      "cell_type": "code",
      "source": [
        "def prime_generator():\n",
        "    \"\"\"Generate prime numbers indefinitely.\"\"\"\n",
        "    num = 2\n",
        "    while True:\n",
        "        is_prime = all(num % i != 0 for i in range(2, int(num**0.5) + 1))\n",
        "        if is_prime:\n",
        "            yield num\n",
        "        num += 1\n",
        "\n",
        "# Example usage:\n",
        "# Generate and print the first 5 prime numbers\n",
        "prime_gen = prime_generator()\n",
        "for _ in range(5):\n",
        "    print(next(prime_gen))\n"
      ],
      "metadata": {
        "colab": {
          "base_uri": "https://localhost:8080/"
        },
        "id": "FnNaMtQssO_K",
        "outputId": "763a3c45-b962-4d45-c1f7-7ec72f83bd40"
      },
      "execution_count": 9,
      "outputs": [
        {
          "output_type": "stream",
          "name": "stdout",
          "text": [
            "2\n",
            "3\n",
            "5\n",
            "7\n",
            "11\n"
          ]
        }
      ]
    },
    {
      "cell_type": "markdown",
      "source": [
        "# Create a lambda funtion to filter out the even numebr from a given list"
      ],
      "metadata": {
        "id": "TcilwyTIsPrE"
      }
    },
    {
      "cell_type": "code",
      "source": [
        "numbers = [1, 2, 3, 4, 5, 6, 7, 8, 9, 10]\n",
        "\n",
        "# Lambda function to filter even numbers\n",
        "filtered_numbers = list(filter(lambda x: x % 2 == 0, numbers))\n",
        "\n",
        "print(filtered_numbers)"
      ],
      "metadata": {
        "colab": {
          "base_uri": "https://localhost:8080/"
        },
        "id": "ZxJ2huUXsSZU",
        "outputId": "335f2102-01cd-47d1-83e5-248377d33cc2"
      },
      "execution_count": 3,
      "outputs": [
        {
          "output_type": "stream",
          "name": "stdout",
          "text": [
            "[2, 4, 6, 8, 10]\n"
          ]
        }
      ]
    },
    {
      "cell_type": "markdown",
      "source": [
        "# Create a funciton for prime numebr generator\n"
      ],
      "metadata": {
        "id": "ZOzSw-gmsXaT"
      }
    },
    {
      "cell_type": "code",
      "source": [
        "def is_prime(num):\n",
        "    \"\"\"Check if a number is prime.\"\"\"\n",
        "    if num < 2:\n",
        "        return False\n",
        "    for i in range(2, int(num**0.5) + 1):\n",
        "        if num % i == 0:\n",
        "            return False\n",
        "    return True\n",
        "\n",
        "def prime_generator(limit):\n",
        "    \"\"\"Generate prime numbers up to a given limit.\"\"\"\n",
        "    primes = []\n",
        "    num = 2\n",
        "    while num < limit:\n",
        "        if is_prime(num):\n",
        "            primes.append(num)\n",
        "        num += 1\n",
        "    return primes\n",
        "\n",
        "# Example usage:\n",
        "# Generate and print prime numbers up to 20\n",
        "limit = 20\n",
        "result = prime_generator(limit)\n",
        "print(f\"Prime numbers up to {limit}: {result}\")\n"
      ],
      "metadata": {
        "colab": {
          "base_uri": "https://localhost:8080/"
        },
        "id": "ODHCGQ9tsggy",
        "outputId": "9f80f549-814f-4f2e-ff69-38c1743972b7"
      },
      "execution_count": 8,
      "outputs": [
        {
          "output_type": "stream",
          "name": "stdout",
          "text": [
            "Prime numbers up to 20: [2, 3, 5, 7, 11, 13, 17, 19]\n"
          ]
        }
      ]
    },
    {
      "cell_type": "markdown",
      "source": [
        "# create funciton for fibbonacci series generator"
      ],
      "metadata": {
        "id": "reWFFvSwsgyR"
      }
    },
    {
      "cell_type": "code",
      "source": [
        "def fibonacci_generator():\n",
        "    a, b = 0, 1\n",
        "    while True:\n",
        "        yield a\n",
        "        a, b = b, a + b\n",
        "\n",
        "\n",
        "fibonacci = fibonacci_generator()\n",
        "for _ in range(10):\n",
        "    print(next(fibonacci))"
      ],
      "metadata": {
        "colab": {
          "base_uri": "https://localhost:8080/"
        },
        "id": "c8vmzcTCsnYQ",
        "outputId": "c202203b-751e-4997-8a87-47821344d01e"
      },
      "execution_count": 4,
      "outputs": [
        {
          "output_type": "stream",
          "name": "stdout",
          "text": [
            "0\n",
            "1\n",
            "1\n",
            "2\n",
            "3\n",
            "5\n",
            "8\n",
            "13\n",
            "21\n",
            "34\n"
          ]
        }
      ]
    }
  ]
}