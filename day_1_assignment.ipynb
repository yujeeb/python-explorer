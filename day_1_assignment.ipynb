{
  "nbformat": 4,
  "nbformat_minor": 0,
  "metadata": {
    "colab": {
      "provenance": []
    },
    "kernelspec": {
      "name": "python3",
      "display_name": "Python 3"
    },
    "language_info": {
      "name": "python"
    }
  },
  "cells": [
    {
      "cell_type": "markdown",
      "source": [
        "## how would you confirm that two strings have the same identity?\n",
        "\n",
        "\n",
        "\n"
      ],
      "metadata": {
        "id": "eh5Ph74_HqpD"
      }
    },
    {
      "cell_type": "code",
      "source": [
        "string1 = \"hello\"\n",
        "string2 = \"hello\"\n",
        "\n",
        "if string1 is string2:\n",
        "    print(\"The strings have the same identity.\")\n",
        "else:\n",
        "    print(\"The strings do not have the same identity.\")\n"
      ],
      "metadata": {
        "id": "zIobT8sES5rS"
      },
      "execution_count": null,
      "outputs": []
    },
    {
      "cell_type": "markdown",
      "source": [
        "## How to find the length and index of the string?"
      ],
      "metadata": {
        "id": "duytPz1XIvDx"
      }
    },
    {
      "cell_type": "code",
      "source": [
        "# Finding length\n",
        "my_string = \"Hello, World!\"\n",
        "\n",
        "length_of_string = len(my_string)\n",
        "print(\"Length of the string:\", length_of_string)\n",
        "\n",
        "# Finding index\n",
        "my_string = \"Hello, World!\"\n",
        "\n",
        "substring = \"World\"\n",
        "index = my_string.find(substring)\n",
        "\n",
        "if index != -1:\n",
        "    print(f\"Index of '{substring}':\", index)\n",
        "else:\n",
        "    print(f\"'{substring}' not found in the string.\")"
      ],
      "metadata": {
        "id": "cuEJ9hZ_S4df"
      },
      "execution_count": null,
      "outputs": []
    },
    {
      "cell_type": "markdown",
      "source": [
        "## how to check a string contain a specific substring"
      ],
      "metadata": {
        "id": "EGK-LzalIO_i"
      }
    },
    {
      "cell_type": "code",
      "source": [
        "my_string = \"Hello, World!\"\n",
        "\n",
        "substring = \"World\"\n",
        "\n",
        "if substring in my_string:\n",
        "    print(f\"The string contains '{substring}'.\")\n",
        "else:\n",
        "    print(f\"The string does not contain '{substring}'.\")"
      ],
      "metadata": {
        "id": "g1HYIC9gJ7Vi"
      },
      "execution_count": null,
      "outputs": []
    },
    {
      "cell_type": "markdown",
      "source": [
        "## how to a take a string from backward with two step difference?\n"
      ],
      "metadata": {
        "id": "LmY6RXjoJF9h"
      }
    },
    {
      "cell_type": "code",
      "source": [
        "my_string = \"abcdefghijk\"\n",
        "\n",
        "result = my_string[::-2]\n",
        "\n",
        "print(result)\n"
      ],
      "metadata": {
        "id": "_C_pqVqBJ8AA"
      },
      "execution_count": null,
      "outputs": []
    },
    {
      "cell_type": "markdown",
      "source": [
        "## how to find the index of the last element"
      ],
      "metadata": {
        "id": "7eg6JfyuJr_2"
      }
    },
    {
      "cell_type": "code",
      "source": [
        "my_string = \"Hello, World!\"\n",
        "\n",
        "# Using the index -1\n",
        "last_index_1 = my_string[-1]\n",
        "\n",
        "# Using len(my_string) - 1\n",
        "last_index_2 = my_string[len(my_string) - 1]\n",
        "\n",
        "print(\"Using index -1:\", last_index_1)\n",
        "print(\"Using len(my_string) - 1:\", last_index_2)"
      ],
      "metadata": {
        "id": "T84ODp77J8zR"
      },
      "execution_count": null,
      "outputs": []
    },
    {
      "cell_type": "markdown",
      "source": [
        "## Write 2 ways to concatinate the string"
      ],
      "metadata": {
        "id": "FTdxvLc1J0lv"
      }
    },
    {
      "cell_type": "code",
      "source": [
        "#1\n",
        "string1 = \"Hello\"\n",
        "string2 = \", \"\n",
        "string3 = \"World!\"\n",
        "\n",
        "concatenated_string = string1 + string2 + string3\n",
        "\n",
        "print(concatenated_string)\n",
        "\n",
        "#2\n",
        "concatenated_string = \"Hello\" + \", \" + \"World!\"\n",
        "\n",
        "print(concatenated_string)"
      ],
      "metadata": {
        "id": "j8P9ODeTJ9Zz"
      },
      "execution_count": null,
      "outputs": []
    }
  ]
}